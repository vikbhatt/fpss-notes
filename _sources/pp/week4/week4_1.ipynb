{
 "cells": [
  {
   "cell_type": "markdown",
   "metadata": {},
   "source": [
    "# Implementing Combiners\n",
    "\n",
    "A transformer operation creates another collection instead of single value. Methods such as `map`, `flatMap`, `groupBy` are examples of such transformer operations. By contrast methods such as `fold`, `aggregate` and `sum` are not transfomer operations.\n",
    "\n",
    "We also sequential operations can be implemented generically with `Builders`.\n",
    "## Builders\n",
    "Builders are used in sequential collection methods:\n",
    "```scala\n",
    "trait Builder[T, Repr] {\n",
    "def +=(elem: T): this.type\n",
    "def result: Repr\n",
    "}\n",
    "```\n",
    "\n",
    "`T` type of element (Ex `String`), `Repr` denotes the type of collection (Ex `Seq[String]`). `Builders` can only be used to implement sequential operations.\n",
    "To implement parallel collections, we need abstraction called `Combiner`.\n",
    "\n",
    "## Combiners\n",
    "\n",
    "```scala\n",
    "trait Combiner[T, Repr] extends Builder[T, Repr] {\n",
    "def combine(that: Combiner[T, Repr]): Combiner[T, Repr]\n",
    "}\n",
    "```\n",
    "\n",
    "The old combiners are invalid once they are combined using `combine` method. \n",
    "\n",
    "\n",
    "How can we implement the combine method efficiently?\n",
    "\n",
    "- when `Repr` is a `set` or a `map`, `combine` represents `union`\n",
    "- when `Repr` is a `sequence`, `combine` represents `concatenation`\n",
    "\n",
    "The combine operation must be efficient, i.e. execute in $\\mathcal{O}(\\log n + \\log m)$\n",
    "time, where $n$ and $m$ are the sizes of two input combiners.\n",
    "\n",
    "* Question: Is the method combine efficient?\n",
    "```scala\n",
    "def combine(xs: Array[Int], ys: Array[Int]): Array[Int] = {\n",
    "val r = new Array[Int](xs.length + ys.length)\n",
    "Array.copy(xs, 0, r, 0, xs.length)\n",
    "Array.copy(ys, 0, r, xs.length, ys.length)\n",
    "r\n",
    "}\n",
    "```\n",
    "No. Let's count total number of steps. `r` allocation takes `n+m` steps in JVM. Copying arrays `n+m` steps. Total `2(n+m)`. So it's $\\mathcal{O}(n+m)$.\\\n",
    "\n",
    "Arrays cannot be efficiently concatenated. Since arrays occupy contigous block of memory concatenating two arrays means moving two entire arrays to new position. If both arrays are adjacent we can quickly return but generally it's not the case.\n",
    "Typically, set data structures have efficient lookup, insertion and deletion.\n",
    "\n",
    "\n",
    "* hash tables – expected $\\mathcal{O}(1)$ -a contigous block of memory with partially filled elements. To get element we compute hash code and look up the index.\n",
    "\n",
    "* balanced trees – $\\mathcal{O}(\\log n)$ -- Contains trees with optional child nodes. Nodes without children are called leaves. Length of longest path from root to leaf is never 2 times larger than shortest path to leaf. Height of tree is always $\\mathcal{O}(\\log n)$.\n",
    "* linked lists – $\\mathcal{O}(n)$\n",
    "\n",
    "Most set implementations do not have efficient union operation."
   ]
  },
  {
   "cell_type": "markdown",
   "metadata": {},
   "source": [
    "\n",
    "## Sequences\n",
    "Operation complexity for sequences can vary.\n",
    "* mutable linked lists – $\\mathcal{O}(1)$ prepend and append, $\\mathcal{O}(n)$ insertion\n",
    "* functional (cons) lists – $\\mathcal{O}(1)$ prepend operations, everything else $\\mathcal{O}(n)$\n",
    "* array lists – amortized $\\mathcal{O}(1)$ append, $\\mathcal{O}(1)$ random accesss, otherwise $\\mathcal{O}(n)$\n",
    "Mutable linked list can have $\\mathcal{O}(1)$ concatenation, but for most sequences,\n",
    "concatenation is O(n)."
   ]
  },
  {
   "cell_type": "code",
   "execution_count": null,
   "metadata": {},
   "outputs": [],
   "source": []
  }
 ],
 "metadata": {
  "kernelspec": {
   "display_name": "Scala",
   "language": "scala",
   "name": "scala"
  },
  "language_info": {
   "codemirror_mode": "text/x-scala",
   "file_extension": ".sc",
   "mimetype": "text/x-scala",
   "name": "scala",
   "nbconvert_exporter": "script",
   "version": "2.13.3"
  }
 },
 "nbformat": 4,
 "nbformat_minor": 4
}
