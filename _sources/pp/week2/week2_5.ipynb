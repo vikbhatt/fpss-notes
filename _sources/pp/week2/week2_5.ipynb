{
 "cells": [
  {
   "cell_type": "markdown",
   "metadata": {},
   "source": [
    "# Assoicativity\n",
    "\n",
    "\n",
    "Operation $f: (A,A) => A$ is associative iff for every $x, y, z$:\n",
    "\n",
    "$$f(x, f(y, z)) = f(f(x, y), z)$$\n",
    "\n",
    "Consequence:\n",
    "* two expressions with same list of operands connected with $⊗$, but different parentheses evaluate to the same result\n",
    "\n",
    "* reduce on any tree with this list of operands gives the same result\n",
    "\n",
    "\n",
    "Which operations are associative?\n",
    "\n",
    "Operation $f: (A,A) => A$ is commutative iff for every $x, y$:\n",
    "$f(x, y) = f(y, x)$\n",
    "There are operations that are associative but not commutative\n",
    "There are operations that are commutative but not associative\n",
    "\n",
    "> For correctness of reduce, we need (just) associativity"
   ]
  },
  {
   "cell_type": "markdown",
   "metadata": {},
   "source": [
    "Suppose we have a binary operation `g` and a strict total ordering less (e.g. lexicographical ordering of bit representations).\n",
    "Then this operation is commutative:\n",
    "`def f(x: A, y: A) = if (less(y,x)) g(y,x) else g(x,y)`\n",
    "\n",
    "Indeed $f(x,y)==f(y,x)$ because:\n",
    "* if $x==y$ then both sides equal $g(x,x)$\n",
    "* if $less(y,x)$ then left sides is $g(y,x)$ and it is not $less(x,y)$ so right side is also $g(y,x)$\n",
    "* if $less(x,y)$ then it is not $less(y,x)$ so left sides is $g(x,y)$ and right side is also $g(x,y)$\n",
    "\n",
    "We know of no such efficient trick for associativity."
   ]
  },
  {
   "cell_type": "markdown",
   "metadata": {},
   "source": [
    "Here is an important way of constructing associative operations.\n",
    "\n",
    "We start with `f1: (A1,A1) => A1` and `f2: (A2,A2) => A2` are associative.\n",
    "\n",
    "Then `f: ((A1,A2), (A1,A2)) => (A1,A2)` defined by `f((x1,x2),(y1,y2)) = (f1(x1,y1), f2(x2,y2))`."
   ]
  },
  {
   "cell_type": "markdown",
   "metadata": {},
   "source": [
    "## Example: average\n",
    "\n",
    "Use pairs that compute sum and length at once\n",
    "`f((sum1,len1), (sum2, len2)) = (sum1 + sum1, len1 + len2)`\n",
    "\n",
    "Function `f` is associative because addition is associative.\n",
    "Solution is then:"
   ]
  },
  {
   "cell_type": "markdown",
   "metadata": {},
   "source": [
    "```scala\n",
    "val (sum, length) = reduce(map(collection, (x:Int) => (x,1)), f)\n",
    "sum/length\n",
    "```"
   ]
  },
  {
   "cell_type": "code",
   "execution_count": null,
   "metadata": {},
   "outputs": [],
   "source": []
  }
 ],
 "metadata": {
  "kernelspec": {
   "display_name": "Scala",
   "language": "scala",
   "name": "scala"
  },
  "language_info": {
   "codemirror_mode": "text/x-scala",
   "file_extension": ".sc",
   "mimetype": "text/x-scala",
   "name": "scala",
   "nbconvert_exporter": "script",
   "version": "2.13.3"
  }
 },
 "nbformat": 4,
 "nbformat_minor": 4
}
