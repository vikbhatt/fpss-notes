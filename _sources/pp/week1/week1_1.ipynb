{
 "cells": [
  {
   "cell_type": "markdown",
   "metadata": {},
   "source": [
    "# Parallelism on JVM I\n",
    "\n",
    "In this lecture, we study basic primitives used to express parallel computation on JVM. The are many forms of parallelism.\n",
    "\n",
    "* GPU\n",
    "* Custom Parallel Hardware\n",
    "* Muti-core CPU\n",
    "* Multi processors\n",
    "* Distributed systems\n",
    "\n",
    "We study a specific parallel programming environment, but we strive to be general. The ideas and algorithms you see generalize to other models easily."
   ]
  },
  {
   "cell_type": "markdown",
   "metadata": {},
   "source": [
    "**Our parallel programming model assumption**\n",
    "\n",
    "- **Multicore or multiprocessor system with shared memory.**\n",
    "- **Our programs run on JVM runtime, which executes on top of an operating system**"
   ]
  },
  {
   "cell_type": "markdown",
   "metadata": {},
   "source": [
    "Operating system – software that manages hardware and software\n",
    "resources, and schedules program execution.\n",
    "\n",
    "Process – an instance of a program that is executing in the OS.\n",
    "\n",
    "The same program can be started as a process more than once, or even\n",
    "simultaneously in the same OS.\n",
    "\n",
    "Each time a process is started, while it executes,the operation systems assign it some resources, execution time on CPU, file handler, or network ports etc,.\n",
    "\n",
    "Each process is assigned unique idenitifier.\n",
    "\n",
    "A process is most coarse grained unit of concurrency on a shared memory system.\n",
    "\n",
    "The operating system multiplexes many different processes and a limited number of CPUs, so that they get _time slices_ of execution. This mechanism is called _multitasking_.\n",
    "\n",
    "Two different processes cannot access each other’s memory directly – they are isolated. For us it means, processes cannot easily communicate. While operating system primitives like pipes, allow two processes to exchange information, interprocess communication is not usually straight forward.\n",
    "\n",
    "We therefore have more fine grained programming primitive.\n",
    "\n",
    "Each process can contain multiple independent concurrency units called\n",
    "**threads**.\n",
    "\n",
    "Threads can be started from within the same program, and they share the same memory address space.\n",
    "\n",
    "Each thread has a program counter and a program stack. The program stack is a region of memory that sequence of method invocations currently being executed. Program counter describes the current position in the program method.\n",
    "\n",
    "JVM threads cannot modify each other’s stack memory. Stack entries which correspond to local entries, which are accessible to the thread that owns the stack. They can only modify the heap memory. To communicate JVM threads must modify heap memory.\n",
    "\n",
    "Each JVM process starts with a main thread. This thread executes the main method of Scala program. In normal sequential program, we use only main thread to execute the program. However in parallel program we must start multiple threads, and the operating system assigns it to the available CPU."
   ]
  },
  {
   "cell_type": "markdown",
   "metadata": {},
   "source": [
    "To start additional threads:\n",
    "\n",
    "1. Define a `Thread `subclass.\n",
    "2. Instantiate a `new Thread` object.\n",
    "3. Call `start` on the `Thread` object.\n",
    "\n",
    "The `Thread` subclass defines the code that the thread will execute. The same custom `Thread` subclass can be used to start multiple threads."
   ]
  },
  {
   "cell_type": "code",
   "execution_count": 1,
   "metadata": {},
   "outputs": [
    {
     "name": "stdout",
     "output_type": "stream",
     "text": [
      "Hello world!\n"
     ]
    },
    {
     "data": {
      "text/plain": [
       "defined \u001b[32mclass\u001b[39m \u001b[36mHelloThread\u001b[39m\n",
       "\u001b[36mt\u001b[39m: \u001b[32mHelloThread\u001b[39m = Thread[Thread-0,5,]"
      ]
     },
     "execution_count": 1,
     "metadata": {},
     "output_type": "execute_result"
    }
   ],
   "source": [
    "class HelloThread extends Thread {\n",
    "override def run() {\n",
    "println(\"Hello world!\")\n",
    "}\n",
    "}\n",
    "val t = new HelloThread\n",
    "t.start()\n",
    "t.join()"
   ]
  },
  {
   "cell_type": "markdown",
   "metadata": {},
   "source": [
    "When main thread encounters `t.start()` it starts a new thread of type `HelloThread`. The two threads then execute in parallel. When the main thread calls join, it halts it execution untill `HelloThread` completes. After the completion of `HelloThread` execution, the main thread can proceed."
   ]
  },
  {
   "cell_type": "markdown",
   "metadata": {},
   "source": [
    "Let's do another experiment. Define a new `HelloThread` like this."
   ]
  },
  {
   "cell_type": "code",
   "execution_count": 2,
   "metadata": {},
   "outputs": [
    {
     "data": {
      "text/plain": [
       "defined \u001b[32mclass\u001b[39m \u001b[36mHelloThread\u001b[39m"
      ]
     },
     "execution_count": 2,
     "metadata": {},
     "output_type": "execute_result"
    }
   ],
   "source": [
    "class HelloThread extends Thread {\n",
    "override def run(): Unit =  {\n",
    "println(\"Hello\") \n",
    "println(\"world!\")\n",
    "}\n",
    "}"
   ]
  },
  {
   "cell_type": "markdown",
   "metadata": {},
   "source": [
    "Let's run two `HelloThread` in parallel."
   ]
  },
  {
   "cell_type": "code",
   "execution_count": 3,
   "metadata": {},
   "outputs": [
    {
     "data": {
      "text/plain": [
       "defined \u001b[32mfunction\u001b[39m \u001b[36mmain\u001b[39m"
      ]
     },
     "execution_count": 3,
     "metadata": {},
     "output_type": "execute_result"
    }
   ],
   "source": [
    "def main():Unit = {\n",
    " val t = new HelloThread\n",
    " val s = new HelloThread\n",
    " t.start()\n",
    " s.start()\n",
    " t.join()\n",
    " s.join()\n",
    "}"
   ]
  },
  {
   "cell_type": "markdown",
   "metadata": {},
   "source": [
    "Let's run the `main` method several times. "
   ]
  },
  {
   "cell_type": "code",
   "execution_count": 5,
   "metadata": {},
   "outputs": [
    {
     "name": "stdout",
     "output_type": "stream",
     "text": [
      "Hello\n",
      "world!\n",
      "Hello\n",
      "world!\n"
     ]
    }
   ],
   "source": [
    "main()"
   ]
  },
  {
   "cell_type": "code",
   "execution_count": 6,
   "metadata": {},
   "outputs": [
    {
     "name": "stdout",
     "output_type": "stream",
     "text": [
      "Hello\n",
      "world!\n",
      "Hello\n",
      "world!\n"
     ]
    }
   ],
   "source": [
    "main()"
   ]
  },
  {
   "cell_type": "markdown",
   "metadata": {},
   "source": [
    "Above demo shows two different statements executing in two threads, can overlap aribtarly. Sometimes, we would like to ensure sequence of statements to execute once as if they are one statements. Here we want to make sure two such sequences in two different threads cannot overlap. Either `t` or `s` executes all of its statements first. In cocurrent programming we call this atomicity."
   ]
  },
  {
   "cell_type": "markdown",
   "metadata": {},
   "source": [
    "* The previous demo showed that separate statements in two threads can overlap.\n",
    "\n",
    "* In some cases, we want to ensure that a sequence of statements in a specific thread executes at once.\n",
    "* An operation is atomic if it appears as if it occurred instantaneously from the point of view of other threads."
   ]
  },
  {
   "cell_type": "markdown",
   "metadata": {},
   "source": [
    "In order to see why atomicity is important, let's demo.\n",
    "```scala\n",
    "private var uidCount = 0L\n",
    "def getUniqueId(): Long = {\n",
    "uidCount = uidCount + 1\n",
    "uidCount\n",
    "}\n",
    "```\n",
    "When a thread calls `getUniqueId()` the value it gets is not returned to any other thread.\n",
    "\n",
    "We define a new method that starts a new thread that uses `getUniqueId()`.\n",
    "```scala\n",
    "def startThread() = {\n",
    "    val t = new Thread\n",
    "    override def run() = {\n",
    "        val uids = for(i <- 1 to 10) yield getUniqueId()\n",
    "        println(uids)\n",
    "    }\n",
    "    t.start()\n",
    "    t\n",
    "}\n",
    "```\n",
    "\n",
    "We start two such threads and see what happens.\n",
    "\n",
    "```scala\n",
    "\n",
    "startThread()\n",
    "startThread()\n",
    "\n",
    "```\n",
    "        "
   ]
  },
  {
   "cell_type": "code",
   "execution_count": 7,
   "metadata": {},
   "outputs": [
    {
     "name": "stdout",
     "output_type": "stream",
     "text": [
      "Vector(1, 2, 4, 5, 7, 8, 9, 10, 12, 13)\n",
      "Vector(1, 3, 6, 9, 11, 14, 15, 16, 17, 18)\n"
     ]
    },
    {
     "data": {
      "text/plain": [
       "defined \u001b[32mfunction\u001b[39m \u001b[36mgetUniqueId\u001b[39m\n",
       "defined \u001b[32mfunction\u001b[39m \u001b[36mstartThread\u001b[39m\n",
       "\u001b[36mres6_3\u001b[39m: \u001b[32mThread\u001b[39m = Thread[Thread-7,5,main]\n",
       "\u001b[36mres6_4\u001b[39m: \u001b[32mThread\u001b[39m = Thread[Thread-8,5,]"
      ]
     },
     "execution_count": 7,
     "metadata": {},
     "output_type": "execute_result"
    }
   ],
   "source": [
    "private var uidCount = 0L\n",
    "def getUniqueId(): Long = {\n",
    "uidCount = uidCount + 1\n",
    "uidCount\n",
    "}\n",
    "def startThread() = {\n",
    "    val t = new Thread{\n",
    "    override def run() = {\n",
    "        val uids = for(i <- 1 to 10) yield getUniqueId()\n",
    "        println(uids)\n",
    "        }\n",
    "    }\n",
    "    t.start()\n",
    "    t\n",
    "}\n",
    "startThread()\n",
    "startThread()\n"
   ]
  },
  {
   "cell_type": "markdown",
   "metadata": {},
   "source": [
    "The numbers obtained the two threads are not at all unique. In particular 1,9 repeats itself. The `getUniqueID()` does not execute atomic fashion. Seperate statements in its body can interleave arbitrarly when executing on different processes. As a consequence invocation of `getUniqueId` do not return unique values.\n",
    "\n",
    "A thread could read `uidCount` and adds 1 to it. But before the actuall assignment takes place, the second thread does the same thing. If both thread execute the assignment, they will both try to write value 1 back into `uidCount` as a result they both return 1. \n"
   ]
  },
  {
   "cell_type": "markdown",
   "metadata": {},
   "source": [
    "Scala and Java achieve atomicity by using synchronized block. Code block after a synchronized call on object x is never executed by two threads at the same time.\n",
    "JVM ensures this by storing monitor on each object. Atmost one thread can own a monitor at a time. For example if  thread `T0` owns a monitor on object `x`, another `T1` thread cannot acquire the monitor before `T0` releases it.\n",
    "\n",
    "`synchronized` method must be invoked on some object. Let's see a demo."
   ]
  },
  {
   "cell_type": "code",
   "execution_count": 10,
   "metadata": {},
   "outputs": [
    {
     "data": {
      "text/plain": [
       "defined \u001b[32mfunction\u001b[39m \u001b[36mgetUniqueId\u001b[39m"
      ]
     },
     "execution_count": 10,
     "metadata": {},
     "output_type": "execute_result"
    }
   ],
   "source": [
    "private val x = new AnyRef {}\n",
    "private var uidCount = 0L\n",
    "def getUniqueId(): Long = x.synchronized{\n",
    "uidCount = uidCount + 1\n",
    "uidCount\n",
    "}"
   ]
  },
  {
   "cell_type": "markdown",
   "metadata": {},
   "source": [
    "The method `getUniqueId` is surrounded by synchronized block on object `x`. To verify atomicity,"
   ]
  },
  {
   "cell_type": "code",
   "execution_count": 11,
   "metadata": {},
   "outputs": [
    {
     "name": "stdout",
     "output_type": "stream",
     "text": [
      "Vector(11, 12, 13, 14, 15, 16, 17, 18, 19, 20)\n",
      "Vector(1, 2, 3, 4, 5, 6, 7, 8, 9, 10)\n"
     ]
    },
    {
     "data": {
      "text/plain": [
       "defined \u001b[32mfunction\u001b[39m \u001b[36mstartThread\u001b[39m\n",
       "\u001b[36mres10_1\u001b[39m: \u001b[32mThread\u001b[39m = Thread[Thread-9,5,main]\n",
       "\u001b[36mres10_2\u001b[39m: \u001b[32mThread\u001b[39m = Thread[Thread-10,5,]"
      ]
     },
     "execution_count": 11,
     "metadata": {},
     "output_type": "execute_result"
    }
   ],
   "source": [
    "def startThread() = {\n",
    "    val t = new Thread{\n",
    "    override def run() = {\n",
    "        val uids = for(i <- 1 to 10) yield getUniqueId()\n",
    "        println(uids)\n",
    "        }\n",
    "    }\n",
    "    t.start()\n",
    "    t\n",
    "}\n",
    "startThread()\n",
    "startThread()\n"
   ]
  },
  {
   "cell_type": "markdown",
   "metadata": {},
   "source": [
    "Now we get unique ids."
   ]
  }
 ],
 "metadata": {
  "kernelspec": {
   "display_name": "Scala",
   "language": "scala",
   "name": "scala"
  },
  "language_info": {
   "codemirror_mode": "text/x-scala",
   "file_extension": ".sc",
   "mimetype": "text/x-scala",
   "name": "scala",
   "nbconvert_exporter": "script",
   "version": "2.13.3"
  }
 },
 "nbformat": 4,
 "nbformat_minor": 4
}
