{
 "cells": [
  {
   "cell_type": "markdown",
   "metadata": {},
   "source": [
    "# Running Computations in Parallel\n"
   ]
  },
  {
   "cell_type": "markdown",
   "metadata": {},
   "source": [
    "What would be simplest way to indicate two expression `e1` and `e2` to run in parallel?\n",
    "\n",
    "`parallel(e1,e2)`\n",
    "\n",
    "To understand this construct let's look at an example.\n",
    "\n",
    "Given a vector as an array (of integers), compute its `p-norm`\n",
    "\n",
    "A `p-norm` is a generalization of the notion of length from geometry\n",
    "\n",
    "2-norm of a two-dimentional vector $(a_1, a_2)$ is ${(a_1^2 + a_2^2)}^{\\frac{1}{2}}$\n",
    "\n",
    "The p-norm of a vector $(a_1,a_2,\\dots,a_n)$ is $(\\sum_{i=1}^{n}{|a_i|}^p)^{\\frac{1}{p}}$"
   ]
  },
  {
   "cell_type": "markdown",
   "metadata": {},
   "source": [
    "### Main step: sum of powers of array segment\n",
    "\n",
    "First, solve sequentially the following `sumSegment` problem: given\n",
    "* an integer array $a$, representing our vector\n",
    "* a positive double floating point number $p$\n",
    "* two valid indices $s \\leq t$ into the array a\n",
    "compute\n",
    "\n",
    "$(\\sum_{i=s}^{t-1}{\\left \\lfloor{{|a_i|}^p}\\right \\rfloor })^{\\frac{1}{p}}$\n",
    "where $⌊y⌋$ rounds down to an integer\n",
    " \n",
    "The main step in the solution is to compute the sum of the elements the array raised to p. Let us define a slightly more general function, called `sumSegment`. It should take an array $a$ and the number $p$ (which we represent as a double), but also the start index of the segment as well as the end boundary, an index before which we should stop summing up."
   ]
  },
  {
   "cell_type": "markdown",
   "metadata": {},
   "source": [
    "Here power computes :\n",
    "\n",
    "$\\left \\lfloor{{|x|}^p}\\right \\rfloor $"
   ]
  },
  {
   "cell_type": "code",
   "execution_count": 1,
   "metadata": {},
   "outputs": [
    {
     "data": {
      "text/plain": [
       "defined \u001b[32mfunction\u001b[39m \u001b[36mpower\u001b[39m\n",
       "defined \u001b[32mfunction\u001b[39m \u001b[36msumSegment\u001b[39m"
      ]
     },
     "execution_count": 1,
     "metadata": {},
     "output_type": "execute_result"
    }
   ],
   "source": [
    "def power(x: Int, p: Double): Int = math.exp(p * math.log(math.abs(x))).toInt\n",
    "\n",
    "def sumSegment(a: Array[Int], p: Double, s: Int, t: Int): Int = {\n",
    "var i= s; var sum: Int = 0\n",
    "while (i < t) {\n",
    "sum= sum + power(a(i), p)\n",
    "i= i + 1\n",
    "}\n",
    "sum\n",
    "}"
   ]
  },
  {
   "cell_type": "markdown",
   "metadata": {},
   "source": [
    "Given `sumSegment(a,p,s,t)`, how to compute `p-norm`?\n",
    "\n",
    "$||a||_p := (\\sum_{i=1}^{N-1}{|a_i|}^p)^{\\frac{1}{p}}$\n",
    "\n",
    "$N=a.length$\n",
    "\n",
    "We give to `sumSegment` the entire array, from index zero to the length of the array. \n",
    "We then raise the result to the power one over $p$. This gives us a\n",
    "sequential version for computing the p-norm. \n"
   ]
  },
  {
   "cell_type": "code",
   "execution_count": 2,
   "metadata": {},
   "outputs": [
    {
     "data": {
      "text/plain": [
       "defined \u001b[32mfunction\u001b[39m \u001b[36mpNorm\u001b[39m"
      ]
     },
     "execution_count": 2,
     "metadata": {},
     "output_type": "execute_result"
    }
   ],
   "source": [
    "def pNorm(a: Array[Int], p: Double): Int =\n",
    "power(sumSegment(a, p, 0, a.length), 1/p)"
   ]
  },
  {
   "cell_type": "markdown",
   "metadata": {},
   "source": [
    "How do we go from here to a parallel version?\n",
    "\n",
    "Now, observe that the sumation can be expressed in two parts: sum up to some middle element m, and then sum from that middle element to the end.\n",
    "\n",
    "$||a||_p := (\\sum_{i=1}^{N-1}{|a_i|}^p)^{\\frac{1}{p}} =  (\\sum_{i=1}^{m-1}{|a_i|}^p + \\sum_{i=m}^{N-1}{|a_i|}^p)^{\\frac{1}{p}}$\n",
    "What is a Scala expression that corresponds to using two sums?"
   ]
  },
  {
   "cell_type": "code",
   "execution_count": 3,
   "metadata": {},
   "outputs": [
    {
     "data": {
      "text/plain": [
       "defined \u001b[32mfunction\u001b[39m \u001b[36mpNormTwoPart\u001b[39m"
      ]
     },
     "execution_count": 3,
     "metadata": {},
     "output_type": "execute_result"
    }
   ],
   "source": [
    "def pNormTwoPart(a: Array[Int], p: Double): Int = {\n",
    "val m = a.length / 2\n",
    "val (sum1, sum2) = (sumSegment(a, p, 0, m),\n",
    "sumSegment(a, p, m, a.length))\n",
    "power(sum1 + sum2, 1/p) }"
   ]
  },
  {
   "cell_type": "markdown",
   "metadata": {},
   "source": [
    "All we need to do is invoke sum segment twice, then add up the two intermediate sums before raising everything to the power of one over p. This is still\n",
    "sequential computation. How do we make it parallel?\n",
    "\n",
    "All we need to is insert `parallel` combinator.\n",
    "\n",
    "```scala\n",
    "\n",
    "val (sum1, sum2) = parallel(sumSegment(a, p, 0, m),\n",
    "sumSegment(a, p, m, a.length))\n",
    "\n",
    "```"
   ]
  },
  {
   "cell_type": "markdown",
   "metadata": {},
   "source": [
    "How do we generalize this to proces four segments in parallel?\n",
    "\n",
    "```scala\n",
    "val m1 = a.length/4; val m2 = a.length/2; val m3 = 3*a.length/4\n",
    "val ((sum1, sum2),(sum3,sum4)) =\n",
    "parallel(parallel(sumSegment(a, p, 0, m1), sumSegment(a, p, m1, m2)),\n",
    "parallel(sumSegment(a, p, m2, m3), sumSegment(a, p, m3, a.length)))\n",
    "```\n",
    "Is there a recursive algorithm for an unbounded number of threads?\n",
    "\n",
    "We have seen how to run summation over two or four segments in parallel. Now, suppose that we have a very long array and an essentially unbounded\n",
    "number of parallel hardware resources. Is there an algorithm that spawns as many parallel computations as needed?"
   ]
  },
  {
   "cell_type": "markdown",
   "metadata": {},
   "source": [
    "```scala\n",
    "def pNormRec(a: Array[Int], p: Double): Int =\n",
    "power(segmentRec(a, p, 0, a.length), 1/p)\n",
    "\n",
    "\n",
    "// like sumSegment but parallel\n",
    "def segmentRec(a: Array[Int], p: Double, s: Int, t: Int) = {\n",
    "if (t - s < threshold)\n",
    "sumSegment(a, p, s, t) // small segment: do it sequentially\n",
    "else {\n",
    "val m = s + (t - s)/2\n",
    "val (sum1, sum2) = parallel(segmentRec(a, p, s, m),\n",
    "segmentRec(a, p, m, t))\n",
    "sum1 + sum2 } }\n",
    "\n",
    "```"
   ]
  },
  {
   "cell_type": "markdown",
   "metadata": {},
   "source": [
    "But what is the signature of `parallel`?\n",
    "\n",
    "```scala\n",
    "\n",
    "def parallel[A, B](taskA: => A, taskB: => B): (A, B) = { ... }\n",
    "\n",
    "```\n",
    "* returns the same value as given\n",
    "* benefit: `parallel(a,b)` can be faster than `(a,b)`\n",
    "* it takes its arguments as by name, indicated with `=> A` and `=> B`\n",
    "\n",
    "Here is the type signature of parallel. It takes the two computations as parameters, here denoted `taskA` and `taskB`. It returns a pair of `A` and `B`, storing the\n",
    "values of those computations. From the point of view of result, parallel behaves as an identity function. The benefit is, of course, that the computation\n",
    "can finish sooner than computing first `taskA` and then `taskB`. Note that the types of parameters are declared as arrow `A` and arrow `B`. Why not simply `A` and `B`?"
   ]
  },
  {
   "cell_type": "markdown",
   "metadata": {},
   "source": [
    "To help answer this question, consider a seemingly minor variant of parallel called parallel1, which differs from parallel only in that it takes parameters by\n",
    "value instead of by name. How does parallel1 behave? If we have two long-running computations a and b, what is the difference between: parallel of a\n",
    "and b versus: parallel1 of a and b?"
   ]
  },
  {
   "cell_type": "markdown",
   "metadata": {},
   "source": [
    "Suppose that both parallel and parallel1 contain the same body:\n",
    "```scala\n",
    "def parallel [A, B](taskA: => A, taskB: => B): (A, B) = { ... }\n",
    "def parallel1[A, B](taskA: A, taskB: B): (A, B) = { ... }\n",
    "```\n",
    "If `a` and `b` are some expressions what is the difference between\n",
    "\n",
    "\n",
    "\n",
    "```scala\n",
    "val (va, vb) = parallel(a, b)\n",
    "```\n",
    "\n",
    "and \n",
    "\n",
    "\n",
    "```scala\n",
    "val (va, vb) = parallel1(a, b) \n",
    "```"
   ]
  },
  {
   "cell_type": "markdown",
   "metadata": {},
   "source": [
    "In fact, the second computation does not use parallelism at all. Because the arguments to `parallel1` are passed by value, they are first evaluated, one by one, and this is where the time is spent. \n",
    "\n",
    "Then their values are passed to parallel, which returns those same two values without doing any useful work. \n",
    "\n",
    "It is therefore essential that we do not evaluate the computation before giving it to a construct that runs it in parallel. For this reason it is appropriate to use call by name parameters, indicated by the arrow in the signature of parallel. \n",
    "\n",
    "Like expressions if and while, parallel is a control structure."
   ]
  },
  {
   "cell_type": "markdown",
   "metadata": {},
   "source": [
    "We have seen how to use the parallel construct. What happens behind the scenes when we invoke computations in parallel? \n",
    "\n",
    "To support parallelism efficiently, we need support from different layers of a computing system: \n",
    "\n",
    "* the language and libraries, \n",
    "\n",
    "* virtual machine (such as Java Virtual Machine),\n",
    "\n",
    "* the operating system, \n",
    "\n",
    "* and the hardware itself. \n",
    "\n",
    "One implementation of parallel uses Java’s threads. On most platforms these are mapped to threads of the underlying operating system. \n",
    "The operating system provides ability to run many threads and processes. \n",
    "When the underlying hardware has multiple\n",
    "processor cores, these threads can execute on different cores, which results in parallel execution. \n",
    "\n",
    "Thanks to the flexibility in different layers of the software\n",
    "stack, a program written with parallelism in mind will run even when there is only one processor core available (of course, without the speedup)."
   ]
  },
  {
   "cell_type": "markdown",
   "metadata": {},
   "source": [
    "As a result of this complexity, performance of parallel code is affected by some of the hardware arhitecture aspects. To illustrate this, consider the following\n",
    "`sum`1 function, which is like `sumSegment`, but sums up array elements themselves instead of their powers. Suppose that we try to execute four such sums in parallel on a commodity desktop with, say, four physical cores.\n",
    "\n",
    "\n",
    "```scala\n",
    "\n",
    "def sum1(a: Array[Int], p: Double, s: Int, t: Int): Int = {\n",
    "var i= s; var sum: Int = 0\n",
    "while (i < t) {\n",
    "sum= sum + a(i) // no exponentiation!\n",
    "i= i + 1\n",
    "}\n",
    "sum }\n",
    "val ((sum1, sum2),(sum3,sum4)) = parallel(\n",
    "parallel(sum1(a, p, 0, m1), sum1(a, p, m1, m2)),\n",
    "parallel(sum1(a, p, m2, m3), sum1(a, p, m3, a.length)))\n",
    "```"
   ]
  },
  {
   "cell_type": "markdown",
   "metadata": {},
   "source": [
    "We may find it difficult to get any notable speedup, despite the fact that we do get speedups if we run the computation that does the more expensive operation per array. What is more, this problem remains even if we make the size of the array very large. What is happening?"
   ]
  },
  {
   "cell_type": "markdown",
   "metadata": {},
   "source": [
    "It turns out that this computation is bound by the memory bandwidth. The array is stored in random access memory. Whether we have one or more\n",
    "cores working, the cores spend their time waiting for the elements of the array to be fetched from the random access memory. Even though computations happen in parallel, we need to take into consideration of parallelism of shared resources."
   ]
  },
  {
   "cell_type": "markdown",
   "metadata": {},
   "source": [
    "Recall that we have previously ran in parallel computations on array segments of approximately same length, resulting in similar time for different parallel\n",
    "threads. \n",
    "\n",
    "What happens when we invoke parallel on two computations that take very different time to execute?\n",
    "\n",
    "We need to wait for both e1 and e2 to complete execution before we can return the pair of values. Therefore, the running time, in the best case, is the\n",
    "maximum of the two running times.\n",
    "\n",
    "```scala\n",
    "val (v1, v2) = parallel(e1, e2)\n",
    "```\n",
    "The running time of `parallel(e1, e2)` is the maximum of two running times."
   ]
  },
  {
   "cell_type": "code",
   "execution_count": null,
   "metadata": {},
   "outputs": [],
   "source": []
  }
 ],
 "metadata": {
  "kernelspec": {
   "display_name": "Scala",
   "language": "scala",
   "name": "scala"
  },
  "language_info": {
   "codemirror_mode": "text/x-scala",
   "file_extension": ".sc",
   "mimetype": "text/x-scala",
   "name": "scala",
   "nbconvert_exporter": "script",
   "version": "2.13.3"
  }
 },
 "nbformat": 4,
 "nbformat_minor": 4
}
