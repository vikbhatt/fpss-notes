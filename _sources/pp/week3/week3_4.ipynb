{
 "cells": [
  {
   "cell_type": "markdown",
   "metadata": {},
   "source": [
    "# Splitters and Combiners\n",
    "\n",
    "We will study the following abstractions:\n",
    "- iterators\n",
    "- splitters\n",
    "- builders\n",
    "- combiners"
   ]
  },
  {
   "cell_type": "markdown",
   "metadata": {},
   "source": [
    "## Iterator\n",
    "The simplified Iterator trait is as follows:\n",
    "```scala\n",
    "trait Iterator[A] {\n",
    "def next(): A\n",
    "def hasNext: Boolean\n",
    "}\n",
    "def iterator: Iterator[A] // on every collection\n",
    "```\n",
    "The iterator contract:\n",
    "- next can be called only if `hasNext` returns true\n",
    "- after `hasNext` returns `false`, it will always return `false`\n",
    "\n",
    "Question: How would you implement `foldLeft` on an `iterator`?\n",
    "```scala\n",
    "def foldLeft[B](z: B)(f: (B, A) => B): B = {\n",
    "var s = z\n",
    "while (hasNext) s = f(s, next())\n",
    "s\n",
    "}\n",
    "```"
   ]
  },
  {
   "cell_type": "markdown",
   "metadata": {},
   "source": [
    "## Splitter\n",
    "\n",
    "Splitter is counterpart of iterator used in parallel programming.\n",
    "The simplified Splitter trait is as follows:\n",
    "\n",
    "```scala\n",
    "trait Splitter[A] extends Iterator[A] {\n",
    "def split: Seq[Splitter[A]]\n",
    "def remaining: Int\n",
    "}\n",
    "def splitter: Splitter[A] // on every parallel collection\n",
    "```\n",
    "The `splitter` contract:\n",
    "- after calling `split`, the original splitter is left in an undefined state\n",
    "- the resulting splitters traverse disjoint subsets of the original splitter\n",
    "- remaining is an estimate on the number of remaining elements\n",
    "- split is an efficient method – $\\mathcal{O}(\\log n)$ or better\n",
    "\n",
    "Question: How would you implement fold on a splitter?\n",
    "```scala\n",
    "def fold(z: A)(f: (A, A) => A): A = {\n",
    "if (remaining < threshold) foldLeft(z)(f)\n",
    "else {\n",
    "val children = for (child <- split) yield task { child.fold(z)(f) }\n",
    "children.map(_.join()).foldLeft(z)(f)\n",
    "}\n",
    "}\n",
    "\n",
    "```"
   ]
  },
  {
   "cell_type": "markdown",
   "metadata": {},
   "source": [
    "## Builder\n",
    "The simplified Builder trait is as follows:\n",
    "```scala\n",
    "trait Builder[A, Repr] {\n",
    "def +=(elem: A): Builder[A, Repr]\n",
    "def result: Repr\n",
    "}\n",
    "def newBuilder: Builder[A, Repr] // on every collection\n",
    "```\n",
    "The builder contract:\n",
    "- calling result returns a collection of type `Repr`, containing the elements that were previously added with `+=`\n",
    "- calling result leaves the `Builder` in an undefined state"
   ]
  },
  {
   "cell_type": "markdown",
   "metadata": {},
   "source": [
    "Question: How would you implement the filter method using newBuilder?\n",
    "\n",
    "```scala\n",
    "def filter(p: T => Boolean): Repr = {\n",
    "val b = newBuilder\n",
    "for (x <- this) if (p(x)) b += x\n",
    "b.result\n",
    "}\n",
    "```\n",
    "\n",
    "The simplified Combiner trait is as follows:\n",
    "```scala\n",
    "trait Combiner[A, Repr] extends Builder[A, Repr] {\n",
    "def combine(that: Combiner[A, Repr]): Combiner[A, Repr]\n",
    "}\n",
    "def newCombiner: Combiner[T, Repr] // on every parallel collection\n",
    "```\n",
    "\n",
    "The combiner contract:\n",
    "- calling `combine` returns a new combiner that contains elements of\n",
    "input combiners\n",
    "-  calling `combine` leaves both original `Combiners` in an undefined state\n",
    "-  combine is an efficient method – $\\mathcal{O}(\\log n)$ or better\n",
    "\n",
    "A combiner is a parallel version of builder."
   ]
  },
  {
   "cell_type": "code",
   "execution_count": null,
   "metadata": {},
   "outputs": [],
   "source": []
  }
 ],
 "metadata": {
  "kernelspec": {
   "display_name": "Scala",
   "language": "scala",
   "name": "scala"
  },
  "language_info": {
   "codemirror_mode": "text/x-scala",
   "file_extension": ".sc",
   "mimetype": "text/x-scala",
   "name": "scala",
   "nbconvert_exporter": "script",
   "version": "2.13.3"
  }
 },
 "nbformat": 4,
 "nbformat_minor": 4
}
