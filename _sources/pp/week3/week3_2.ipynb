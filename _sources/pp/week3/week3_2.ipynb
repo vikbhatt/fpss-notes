{
 "cells": [
  {
   "cell_type": "markdown",
   "metadata": {},
   "source": [
    "# Data-Parallel Operations I\n",
    "\n",
    "In Scala, most collection operations can become data-parallel.\n",
    "\n",
    "The `.par` call converts a sequential collection to a parallel collection."
   ]
  },
  {
   "cell_type": "markdown",
   "metadata": {},
   "source": [
    "However, some operations are not parallelizable."
   ]
  },
  {
   "cell_type": "markdown",
   "metadata": {},
   "source": [
    "## Non-Parallelizable Operations\n",
    "\n",
    "Task: implement the method sum using the foldLeft method.\n",
    "\n",
    "```scala\n",
    "def sum(xs: Array[Int]): Int = {\n",
    "xs.par.foldLeft(0)(_ + _)\n",
    "}\n",
    "```\n",
    "Does this implementation execute in parallel? Why not?\n",
    "\n",
    "No.\n",
    "\n",
    "```scala\n",
    "Let’s examine the foldLeft signature:\n",
    "def foldLeft[B](z: B)(f: (B, A) => B): B\n",
    "```\n",
    "\n",
    "In order for values of `B` to be available for the right elements, the left elements has to computed with `f`.\n",
    "\n",
    "Operations `foldRight`, `reduceLeft`, `reduceRight`, `scanLeft` and `scanRight` similarly must process the elements sequentially.\n",
    "\n",
    "Next, let’s examine the fold signature:\n",
    "\n",
    "```scala\n",
    "def fold(z: A)(f: (A, A) => A): A\n",
    "```\n",
    "\n",
    "The fold operation can process the elements in a reduction tree, so it can execute in parallel."
   ]
  },
  {
   "cell_type": "markdown",
   "metadata": {},
   "source": [
    "# Data-Parallel Operations II\n",
    "\n",
    "\n",
    "In this lecture, we study the parallel fold operation more closely, to understand its advantages and some limitations."
   ]
  },
  {
   "cell_type": "markdown",
   "metadata": {},
   "source": [
    "## Use-cases of the `fold` Operation\n",
    "\n",
    "Implement the `sum` method:\n",
    "```scala\n",
    "def sum(xs: Array[Int]): Int = {\n",
    "xs.par.fold(0)(_ + _)\n",
    "}\n",
    "```\n",
    "Implement the `max` method:\n",
    "```scala\n",
    "def max(xs: Array[Int]): Int = {\n",
    "xs.par.fold(Int.MinValue)(math.max)\n",
    "}\n",
    "```\n",
    "\n",
    "## Preconditions of the `fold` Operation\n",
    "\n"
   ]
  },
  {
   "cell_type": "markdown",
   "metadata": {},
   "source": [
    "Given a list of \"paper\", \"rock\" and \"scissors\" strings, find out who won:\n",
    "```scala\n",
    "Array(\"paper\", \"rock\", \"paper\", \"scissors\")\n",
    ".par.fold(\"\")(play)\n",
    "```\n"
   ]
  },
  {
   "cell_type": "code",
   "execution_count": 2,
   "metadata": {},
   "outputs": [
    {
     "data": {
      "text/plain": [
       "defined \u001b[32mfunction\u001b[39m \u001b[36mplay\u001b[39m"
      ]
     },
     "execution_count": 2,
     "metadata": {},
     "output_type": "execute_result"
    }
   ],
   "source": [
    "def play(a: String, b: String): String = List(a, b).sorted match {\n",
    "case List(\"paper\", \"scissors\") => \"scissors\"\n",
    "case List(\"paper\", \"rock\") => \"paper\"\n",
    "case List(\"rock\", \"scissors\") => \"rock\"\n",
    "case List(a, b) if a == b => a\n",
    "case List(\"\", b) => b\n",
    "}"
   ]
  },
  {
   "cell_type": "markdown",
   "metadata": {},
   "source": [
    "```scala\n",
    "Array(\"paper\", \"rock\", \"paper\", \"scissors\").par.fold(\"\")(play)\n",
    "\n",
    "play(play(\"paper\", \"rock\"), play(\"paper\", \"scissors\")) == \"scissors\"\n",
    "\n",
    "play(\"paper\", play(\"rock\", play(\"paper\", \"scissors\"))) == \"paper\"\n",
    "```\n",
    "\n",
    "But the data parallel scheduler is allowed to organize in different way (bottom), so we get unexpected result.\n",
    "\n",
    "Why does this happen?\n",
    "\n",
    "The play operator is commutative, but not associative"
   ]
  },
  {
   "cell_type": "markdown",
   "metadata": {},
   "source": [
    "In order for the fold operation to work correctly, the following relations\n",
    "must hold:\n",
    "\n",
    "$$f(a, f(b, c)) == f(f(a, b), c)$$\n",
    "\n",
    "$$f(z, a) == f(a, z) == a$$\n",
    "We say that the neutral element z and the binary operator f must form a monoid.\n",
    "\n",
    "Commutativity does not matter for fold – the following relation is not\n",
    "necessary:\n",
    "$$f(a, b) == f(b, a)$$\n",
    "\n",
    "\n",
    "Given an array of characters, use fold to return the vowel count:\n",
    "```scala\n",
    "Array(‘E‘, ‘P‘, ‘F‘, ‘L‘).par\n",
    ".fold(0)((count, c) => if (isVowel(c)) count + 1 else count)\n",
    "```\n",
    "Above program  does not compile -- 0 is not a Char\n",
    "The fold operation can only produce values of the same type as the collection that it is called on.\n",
    "\n",
    "## The aggregate operation\n",
    "\n",
    "Let’s examine the aggregate signature:\n",
    "```scala\n",
    "def aggregate[B](z: B)(f: (B, A) => B, g: (B, B) => B): B\n",
    "```\n",
    "\n",
    "`aggregate` takes a sequential folding operator `f` and parallel folding operator `g`.\n",
    "\n",
    "## Using the aggregate Operation\n",
    "\n",
    "Count the number of vowels in a character array:\n",
    "```scala\n",
    "Array(‘E‘, ‘P‘, ‘F‘, ‘L‘).par.aggregate(0)(\n",
    "(count, c) => if (isVowel(c)) count + 1 else count,\n",
    "_ + _\n",
    ")\n",
    "```\n",
    "The parallel reduction operator `g` and neutral element `z` must form monoid.\n",
    "\n",
    "So far, we saw the accessor combinators.\n",
    "Transformer combinators, such as `map`, `filter`, `flatMap` and `groupBy`, do not return a single value, but instead return new collections as results."
   ]
  },
  {
   "cell_type": "code",
   "execution_count": null,
   "metadata": {},
   "outputs": [],
   "source": []
  }
 ],
 "metadata": {
  "kernelspec": {
   "display_name": "Scala",
   "language": "scala",
   "name": "scala"
  },
  "language_info": {
   "codemirror_mode": "text/x-scala",
   "file_extension": ".sc",
   "mimetype": "text/x-scala",
   "name": "scala",
   "nbconvert_exporter": "script",
   "version": "2.13.3"
  }
 },
 "nbformat": 4,
 "nbformat_minor": 4
}
