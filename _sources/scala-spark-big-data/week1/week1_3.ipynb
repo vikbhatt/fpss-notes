{
 "cells": [
  {
   "cell_type": "markdown",
   "metadata": {},
   "source": [
    "# Evaluation in Spark: Unlike Scala Collections!\n"
   ]
  },
  {
   "cell_type": "markdown",
   "metadata": {},
   "source": [
    "Spark applications run as independent sets of processes on a cluster, coordinated by the SparkContext object in your main program (called the driver program). Specifically, to run on a cluster, the SparkContext can connect to several types of cluster managers (either Spark’s own standalone cluster manager or Mesos/YARN), which allocate resources across applications. Once connected, Spark acquires executors on nodes in the cluster, which are worker processes that run computations and store data for your application. Next, it sends your application code (defined by JAR or Python files passed to SparkContext) to the executors. Finally, SparkContext sends tasks for the executors to run."
   ]
  },
  {
   "cell_type": "markdown",
   "metadata": {},
   "source": [
    "<p style=\"text-align: center;\">\n",
    "  <img src=\"../../images/cluster-overview.png\n",
    "\" title=\"Spark cluster components\" alt=\"Spark cluster components\">\n",
    "</p>"
   ]
  },
  {
   "cell_type": "markdown",
   "metadata": {},
   "source": [
    "There are several useful things to note about this architecture:\n",
    "\n",
    "<ol>\n",
    "  <li>Each application gets its own executor processes, which stay up for the duration of the whole\n",
    "application and run tasks in multiple threads. This has the benefit of isolating applications\n",
    "from each other, on both the scheduling side (each driver schedules its own tasks) and executor\n",
    "side (tasks from different applications run in different JVMs). However, it also means that\n",
    "data cannot be shared across different Spark applications (instances of SparkContext) without\n",
    "writing it to an external storage system.</li>\n",
    "  <li>Spark is agnostic to the underlying cluster manager. As long as it can acquire executor\n",
    "processes, and these communicate with each other, it is relatively easy to run it even on a\n",
    "cluster manager that also supports other applications (e.g. Mesos/YARN).</li>\n",
    "  <li>Because the driver schedules tasks on the cluster, it should be run close to the worker\n",
    "nodes, preferably on the same local area network. If you’d like to send requests to the\n",
    "cluster remotely, it’s better to open an RPC to the driver and have it submit operations\n",
    "from nearby than to run a driver far away from the worker nodes.</li>\n",
    "</ol>"
   ]
  },
  {
   "cell_type": "markdown",
   "metadata": {},
   "source": [
    "<table class=\"table\">\n",
    "  <thead>\n",
    "    <tr><th style=\"width: 130px;\">Term</th><th>Meaning</th></tr>\n",
    "  </thead>\n",
    "  <tbody>\n",
    "    <tr>\n",
    "      <td>Application</td>\n",
    "      <td>User program built on Spark. Consists of a <em>driver program</em> and <em>executors</em> on the cluster.</td>\n",
    "    </tr>\n",
    "    <tr>\n",
    "      <td>Driver program</td>\n",
    "      <td>The process running the main() function of the application and creating the SparkContext</td>\n",
    "    </tr>\n",
    "    <tr>\n",
    "      <td>Cluster manager</td>\n",
    "      <td>An external service for acquiring resources on the cluster (e.g. standalone manager, Mesos, YARN)</td>\n",
    "    </tr>\n",
    "    <tr>\n",
    "      <td>Worker node</td>\n",
    "      <td>Any node that can run application code in the cluster</td>\n",
    "    </tr>\n",
    "    <tr>\n",
    "      <td>Executor</td>\n",
    "      <td>A process launched for an application on a worker node, that runs tasks and keeps data in memory\n",
    "        or disk storage across them. Each application has its own executors.</td>\n",
    "    </tr>\n",
    "    <tr>\n",
    "      <td>Task</td>\n",
    "      <td>A unit of work that will be sent to one executor</td>\n",
    "    </tr>\n",
    "    <tr>\n",
    "      <td>Job</td>\n",
    "      <td>A parallel computation consisting of multiple tasks that gets spawned in response to a Spark action\n",
    "        (e.g. <code>save</code>, <code>collect</code>); you'll see this term used in the driver's logs.</td>\n",
    "    </tr>\n",
    "    <tr>\n",
    "      <td>Stage</td>\n",
    "      <td>Each job gets divided into smaller sets of tasks called <em>stages</em> that depend on each other\n",
    "        (similar to the map and reduce stages in MapReduce); you'll see this term used in the driver's logs.</td>\n",
    "    </tr>\n",
    "  </tbody>\n",
    "</table>"
   ]
  },
  {
   "cell_type": "code",
   "execution_count": null,
   "metadata": {},
   "outputs": [],
   "source": []
  },
  {
   "cell_type": "code",
   "execution_count": null,
   "metadata": {},
   "outputs": [],
   "source": []
  }
 ],
 "metadata": {
  "kernelspec": {
   "display_name": "Scala",
   "language": "scala",
   "name": "scala"
  },
  "language_info": {
   "codemirror_mode": "text/x-scala",
   "file_extension": ".sc",
   "mimetype": "text/x-scala",
   "name": "scala",
   "nbconvert_exporter": "script",
   "version": "2.13.3"
  }
 },
 "nbformat": 4,
 "nbformat_minor": 4
}
